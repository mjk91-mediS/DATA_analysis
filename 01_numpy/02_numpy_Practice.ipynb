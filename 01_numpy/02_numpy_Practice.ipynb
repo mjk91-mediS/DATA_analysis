{
 "cells": [
  {
   "cell_type": "markdown",
   "metadata": {},
   "source": [
    "# 실습문제"
   ]
  },
  {
   "cell_type": "code",
   "execution_count": 1,
   "metadata": {},
   "outputs": [
    {
     "data": {
      "text/plain": [
       "array([['2012-01-12', '60.19857', '75.510002', ..., '28.25',\n",
       "        '313.644379', '1295.5'],\n",
       "       ['2012-01-13', '59.972857999999995', '74.599998', ...,\n",
       "        '22.790001', '311.32806400000004', '1289.089966'],\n",
       "       ['2012-01-17', '60.671429', '75.239998', ..., '26.6',\n",
       "        '313.11636400000003', '1293.670044'],\n",
       "       ...,\n",
       "       ['2020-08-07', '444.450012', '170.020004', ..., '1452.709961',\n",
       "        '1494.48999', '3351.280029'],\n",
       "       ['2020-08-10', '450.910004', '179.41000400000001', ...,\n",
       "        '1418.569946', '1496.099976', '3360.469971'],\n",
       "       ['2020-08-11', '437.5', '180.130005', ..., '1374.390015',\n",
       "        '1480.319946', '3333.689941']], dtype='<U32')"
      ]
     },
     "execution_count": 1,
     "metadata": {},
     "output_type": "execute_result"
    }
   ],
   "source": [
    "import numpy as np\n",
    "stock_info = np.genfromtxt(\"../00_data/stock_daily_prices.csv\", delimiter=\",\", dtype=None, encoding=None, skip_header=1)\n",
    "stock_info = np.vstack([stock_info[\"f0\"],stock_info[\"f1\"],stock_info[\"f2\"],\n",
    "                        stock_info[\"f3\"],stock_info[\"f4\"],stock_info[\"f5\"],\n",
    "                        stock_info[\"f6\"],stock_info[\"f7\"],stock_info[\"f8\"],\n",
    "                        stock_info[\"f9\"]]).T\n",
    "\n",
    "stock_info"
   ]
  },
  {
   "cell_type": "markdown",
   "metadata": {},
   "source": [
    "# 문제 1: 각 종목의 최고가와 최저가를 찾기\n",
    "각 종목의 최고 주가와 최저 주가를 찾아본다."
   ]
  },
  {
   "cell_type": "code",
   "execution_count": 7,
   "metadata": {},
   "outputs": [
    {
     "name": "stdout",
     "output_type": "stream",
     "text": [
      "AAPL의 최고 주가 : 455.61, 최저 주가 : 55.79\n",
      "BA의 최고 주가 : 440.62, 최저 주가 : 67.24\n",
      "I의 최고 주가 : 43.47, 최저 주가 : 26.77\n",
      "MGM의 최고 주가 : 38.03, 최저 주가 : 7.14\n",
      "AMZN의 최고 주가 : 3225.0, 최저 주가 : 175.93\n",
      "IBM의 최고 주가 : 215.8, 최저 주가 : 94.77\n",
      "TSLA의 최고 주가 : 1643.0, 최저 주가 : 22.79\n",
      "GOOG의 최고 주가 : 1568.49, 최저 주가 : 278.48\n",
      "SP500의 최고 주가 : 3386.15, 최저 주가 : 1278.04\n"
     ]
    }
   ],
   "source": [
    "max_prices = np.max(stock_info[:, 1:].astype(float), axis=0)\n",
    "min_prices = np.min(stock_info[:, 1:].astype(float), axis=0)\n",
    "stocks = [\"AAPL\", \"BA\", \"I\", \"MGM\", \"AMZN\", \"IBM\", \"TSLA\", \"GOOG\", \"SP500\"]\n",
    "\n",
    "for stock, max_price, min_price in zip(stocks, max_prices, min_prices) :\n",
    "    print(f\"{stock}의 최고 주가 : {max_price.round(2)}, 최저 주가 : {min_price.round(2)}\")"
   ]
  },
  {
   "cell_type": "markdown",
   "metadata": {},
   "source": [
    "# 문제 2: SP500과 TSLA간의 상관관계 분석\n",
    "sp500 지수와 테슬라(TSLA)간의 상관관계를 계산하고, 두 종목 간의 상관성이 높은지 확인한다."
   ]
  },
  {
   "cell_type": "code",
   "execution_count": 15,
   "metadata": {},
   "outputs": [
    {
     "name": "stdout",
     "output_type": "stream",
     "text": [
      "[  28.25       22.790001   26.6      ... 1452.709961 1418.569946\n",
      " 1374.390015]\n",
      "[[1.         0.70430765]\n",
      " [0.70430765 1.        ]]\n",
      "Tsla와 SP500의 상관관계 : 0.704307647348461\n"
     ]
    }
   ],
   "source": [
    "tsla_prices = stock_info[:, 7].astype(float)\n",
    "sp500_prices = stock_info[:, 9].astype(float)\n",
    "\n",
    "correlation = np.corrcoef(tsla_prices, sp500_prices)[0,1]\n",
    "print(np.corrcoef(tsla_prices, sp500_prices))\n",
    "print(f\"Tsla와 SP500의 상관관계 : {correlation}\")"
   ]
  },
  {
   "cell_type": "markdown",
   "metadata": {},
   "source": [
    "# 문제 3: 특정 기간(2012-01-12 ~ 2012-01-25) 동안 가장 많이 상승한 종목 찾기\n",
    "주어진 기간동안 상승폭이 가장 큰 종목 찾기"
   ]
  },
  {
   "cell_type": "code",
   "execution_count": 32,
   "metadata": {},
   "outputs": [
    {
     "name": "stdout",
     "output_type": "stream",
     "text": [
      "[ 5.99682185  0.41053899  0.29879813  8.07914262  6.7470076   6.19218655\n",
      " -0.99115398 -9.55307316  2.35893933]\n",
      "2012-01-12 ~ 2012-01-25 기간 동안 가장 많이 상승한 종목 : MGM, 상승률 :8.08\n"
     ]
    }
   ],
   "source": [
    "# 종목 이름 리스트\n",
    "stocks = [\"APPL\", \"BA\", \"T\", \"MGM\", \"AMZN\", \"IBM\", \"TSLA\", \"GOOG\", \"SP500\"]\n",
    "\n",
    "# 기간 필터링(2012-01-12 ~ 2012-01-25)\n",
    "# 기간의 인덱스를 도출함.\n",
    "start_index = np.where(stock_info[:, 0] == \"2012-01-12\")[0][0]\n",
    "end_index = np.where(stock_info[:, 0] == \"2012-01-25\")[0][0]\n",
    "\n",
    "filtered_data = stock_info[start_index : end_index+1, 1:].astype(float)\n",
    "\n",
    "initial_prices = filtered_data[0]\n",
    "final_prices = filtered_data[-1]\n",
    "\n",
    "price_change_percent = (final_prices - initial_prices) / initial_prices * 100\n",
    "\n",
    "max_increase_index = np.argmax(price_change_percent)\n",
    "max_increase_stock = stocks[max_increase_index]\n",
    "max_increase_value = price_change_percent[max_increase_index]\n",
    "\n",
    "print(price_change_percent)\n",
    "\n",
    "print(f\"2012-01-12 ~ 2012-01-25 기간 동안 가장 많이 상승한 종목 : {max_increase_stock}, 상승률 :{max_increase_value:.2f}\")"
   ]
  }
 ],
 "metadata": {
  "kernelspec": {
   "display_name": "dataAnalysis",
   "language": "python",
   "name": "python3"
  },
  "language_info": {
   "codemirror_mode": {
    "name": "ipython",
    "version": 3
   },
   "file_extension": ".py",
   "mimetype": "text/x-python",
   "name": "python",
   "nbconvert_exporter": "python",
   "pygments_lexer": "ipython3",
   "version": "3.12.7"
  }
 },
 "nbformat": 4,
 "nbformat_minor": 2
}
