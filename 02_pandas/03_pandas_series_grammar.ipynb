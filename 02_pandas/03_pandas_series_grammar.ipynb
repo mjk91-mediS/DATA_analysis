{
 "cells": [
  {
   "cell_type": "markdown",
   "metadata": {},
   "source": [
    "# pandas\n",
    "pandas는 python에서 데이터 조작과 분석을 위한 라이브러리로 특히 표 형태의 데이터(예:스프레드시트, SQL 테이블 등)을 처리하는데 매우 유용하며 <br> 데이터프레임(DataFrame)이라는 구조를 사용해 데이터를 효율적으로 다룰 수 있게 해준다.<br> pandas는 데이터 분석 작업에서 핵심적인 도구로 사용되며, 데이터 수집, 정리, 탐색, 변환 분석 등의 과정을 단순화한다.\n",
    "\n",
    "- 주요 기능\n",
    "    1. 데이터 구조 : <br>\n",
    "    Series : 1차원 배열로, 인덱스가 지정된 배열이다. python의 리스트나 numpy의 darray와 유사하지만, 각 값에 대한 인덱스를 명시적으로 지정할 수 있다. <br>\n",
    "    DataFrame : 2차원 표 형식의 데이터 구조로, 행과 열로 이루어져 있다. 엑셀의 시트나 SQL 테이블과 유사한 형식으로, 각 열은 Series 객체로 구성된다. <br>\n",
    "    2. 빠른 데이터 처리 : <br>\n",
    "    pandas는 대규모 데이터를 효율적으로 처리할 수 있다 <br>\n",
    "    특히 데이터 정리, 필터링, 집계와 같은 작업을 빠르게 수행할 수 있다. <br>\n",
    "    3. 다양한 데이터 소스와의 호환성 : <br>\n",
    "    CSV, Excel, SQL, Json, HDF5, HTML 등 다양한 파일 형식에서 데이터를 쉽게 읽고 쓸 수 있다. <br>\n",
    "    4. 데이터 변환 및 정리 <br>\n",
    "    결측치 처리, 중복 제거, 데이터 필터링, 열/행 추가 및 삭제, 데이터 정렬, 그룹화 , 피벗 테이블 생성 등 데이터 변환 작업을 쉽게 수행할 수 있다. <br>\n",
    "    5. 통계 및 시각화 지원<br>\n",
    "    데이터 분석에 필요한 기본적인 통계 연산(평균, 표준 편차, 합계 등)을 손쉽게 수행할 수 있으며 Matplotlib와 같은 라이브러리와 연동해 시각화도 지원한다."
   ]
  },
  {
   "cell_type": "markdown",
   "metadata": {},
   "source": [
    "## pandas install \n",
    "```\n",
    "$pip install pandas\n",
    "```"
   ]
  },
  {
   "cell_type": "code",
   "execution_count": 1,
   "metadata": {},
   "outputs": [],
   "source": [
    "import pandas as pd"
   ]
  },
  {
   "cell_type": "markdown",
   "metadata": {},
   "source": [
    "### Series와 DataFrame\n",
    "- Series : 1차원 데이터 구조\n",
    "- DataFrame : 2차원 데이터 구조"
   ]
  },
  {
   "cell_type": "code",
   "execution_count": 2,
   "metadata": {},
   "outputs": [
    {
     "name": "stdout",
     "output_type": "stream",
     "text": [
      "<class 'pandas.core.series.Series'>\n",
      "0    1\n",
      "1    3\n",
      "2    4\n",
      "3    5\n",
      "4    6\n",
      "dtype: int64\n"
     ]
    }
   ],
   "source": [
    "# 시리즈 생성\n",
    "s = pd.Series([1,3,4,5,6])\n",
    "print(type(s))\n",
    "print(s)"
   ]
  },
  {
   "cell_type": "code",
   "execution_count": 3,
   "metadata": {},
   "outputs": [
    {
     "name": "stdout",
     "output_type": "stream",
     "text": [
      "<class 'pandas.core.frame.DataFrame'>\n",
      "    Name  Age      City\n",
      "0   John   28  New York\n",
      "1   Anna   39     Paris\n",
      "2  Peter   49    Berlin\n",
      "3  Linda   21    London\n"
     ]
    }
   ],
   "source": [
    "# DataFrame todtjd\n",
    "data_dic = {\n",
    "    \"Name\" : [\"John\", \"Anna\", \"Peter\", \"Linda\"],\n",
    "    \"Age\" : [28,39,49,21],\n",
    "    \"City\" : [\"New York\", \"Paris\", \"Berlin\", \"London\"]\n",
    "}\n",
    "\n",
    "data_df = pd.DataFrame(data_dic)\n",
    "print(type(data_df))\n",
    "print(data_df)\n"
   ]
  },
  {
   "cell_type": "markdown",
   "metadata": {},
   "source": [
    "### Series\n",
    "판다의 시리즈(Series)는 1차원 배열 형태의 데이터 구조로, 데이터와 데이터에 대한 인덱스를 함께 저장한다.\n",
    "- 주요 특징\n",
    "    1. 시리즈는 데이터 및 관련 지수로 구성되며 숫자 인덱스가 자동으로 생성된다.\n",
    "    2. 라벨 기반 인덱싱 : 각 데이터 포인트는 인덱스(라벨)을 통해 접근할 수 있다.\n",
    "    3. 결측 지원 : 시리즈는 결측츠(NaN)을 지원하며 데이터가 누락된 경우에도 유연하게 처리할 수 있다.\n",
    "    4. 다양한 데이터 소스 : 리스트, 배열, 딕셔너리 등 다양한 형식의 데이터를 기반으로 시리즈를 생성할 수 있다.\n"
   ]
  },
  {
   "cell_type": "code",
   "execution_count": 7,
   "metadata": {},
   "outputs": [
    {
     "name": "stdout",
     "output_type": "stream",
     "text": [
      "0    고양이\n",
      "1      개\n",
      "2    코끼리\n",
      "3    호랑이\n",
      "4     사자\n",
      "5     기린\n",
      "6      곰\n",
      "7     여우\n",
      "8     토끼\n",
      "9     늑대\n",
      "dtype: object\n",
      "\n",
      "0    100\n",
      "1    200\n",
      "2    400\n",
      "3    500\n",
      "dtype: int64\n",
      "\n",
      "0       1\n",
      "1       1\n",
      "2     1.1\n",
      "3    True\n",
      "dtype: object\n"
     ]
    },
    {
     "data": {
      "text/plain": [
       "pandas.core.series.Series"
      ]
     },
     "execution_count": 7,
     "metadata": {},
     "output_type": "execute_result"
    }
   ],
   "source": [
    "# 시리즈 생성하기\n",
    "animal_list = [\"고양이\", \"개\", \"코끼리\", \"호랑이\", \"사자\", \"기린\", \"곰\", \"여우\",\"토끼\", \"늑대\"]\n",
    "s = pd.Series(animal_list)\n",
    "print(s)\n",
    "print()\n",
    "\n",
    "# 숫자 기반 시리즈 생성\n",
    "s  = pd.Series(data=[100,200,400,500])\n",
    "print(s)\n",
    "print()\n",
    "\n",
    "# 다양한 데이터 타입을 가진 시리즈 \n",
    "s = pd.Series([\"1\", 1, 1.1, True])\n",
    "print(s)\n",
    "\n",
    "type(s)"
   ]
  },
  {
   "cell_type": "markdown",
   "metadata": {},
   "source": [
    "### 시리즈 인덱스 정의하기\n",
    "데이터의 구조와 의미를 명확하게 하며, 데이터 접근성과 조작의 효율성을 높이는데 중요한 역할을 한다. <br>\n",
    "이는 앞으로 데이터 전처리 과정에서 매우 유용하게 사용된다."
   ]
  },
  {
   "cell_type": "code",
   "execution_count": 12,
   "metadata": {},
   "outputs": [
    {
     "name": "stdout",
     "output_type": "stream",
     "text": [
      "영화1    어벤져스\n",
      "영화2      파묘\n",
      "영화3      방법\n",
      "영화4    엔드게임\n",
      "dtype: object\n"
     ]
    },
    {
     "data": {
      "text/plain": [
       "pandas.core.series.Series"
      ]
     },
     "execution_count": 12,
     "metadata": {},
     "output_type": "execute_result"
    }
   ],
   "source": [
    "# list 생성\n",
    "movie_list = [\"어벤져스\", \"파묘\", \"방법\", \"엔드게임\"]\n",
    "my_labels = [\"영화1\", \"영화2\", \"영화3\", \"영화4\"]\n",
    "\n",
    "# 1차원 판다 시리즈 생성하기\n",
    "custom_series = pd.Series(data=movie_list, index=my_labels)\n",
    "print(custom_series)\n",
    "type(custom_series)"
   ]
  },
  {
   "cell_type": "markdown",
   "metadata": {},
   "source": [
    "### 딕셔너리 형태의 시리즈 생성\n",
    "딕셔너리는 키 - 값 쌍의 모음으로 구성된다. <br>\n",
    "각 키 - 값 쌍은 키를 해당 값에 매핑한다. <br>\n",
    "목록 요소는 인덱싱을 통해 목록 내 위치 별로 액세스하고 사전 요소는 키를 통해 액세스한다. "
   ]
  },
  {
   "cell_type": "code",
   "execution_count": 14,
   "metadata": {},
   "outputs": [
    {
     "name": "stdout",
     "output_type": "stream",
     "text": [
      "{'이름': '이상우', '나이': 20, '전화번호': '010-3293-8180'}\n"
     ]
    },
    {
     "data": {
      "text/plain": [
       "dict"
      ]
     },
     "execution_count": 14,
     "metadata": {},
     "output_type": "execute_result"
    }
   ],
   "source": [
    "my_info = {\n",
    "    \"이름\" : \"이상우\",\n",
    "    \"나이\" : 20,\n",
    "    \"전화번호\" : \"010-3293-8180\",\n",
    "}\n",
    "print(my_info)\n",
    "type(my_info)"
   ]
  },
  {
   "cell_type": "code",
   "execution_count": 16,
   "metadata": {},
   "outputs": [
    {
     "name": "stdout",
     "output_type": "stream",
     "text": [
      "이상우\n"
     ]
    },
    {
     "data": {
      "text/plain": [
       "pandas.core.series.Series"
      ]
     },
     "execution_count": 16,
     "metadata": {},
     "output_type": "execute_result"
    }
   ],
   "source": [
    "# Dictionary를 pandas의 시리즈로 변환하기\n",
    "# 이러한 경우 key가 index로  변경되며 Value가 값이된다.\n",
    "series_dict = pd.Series(my_info)\n",
    "print(series_dict)\n",
    "type(series_dict)"
   ]
  },
  {
   "cell_type": "markdown",
   "metadata": {},
   "source": [
    "### 시리즈 기본속성 알아보기"
   ]
  },
  {
   "cell_type": "code",
   "execution_count": 17,
   "metadata": {},
   "outputs": [
    {
     "data": {
      "text/plain": [
       "1번    어벤져스\n",
       "2번    국제시장\n",
       "3번      방법\n",
       "4번      파묘\n",
       "dtype: object"
      ]
     },
     "execution_count": 17,
     "metadata": {},
     "output_type": "execute_result"
    }
   ],
   "source": [
    "# pandas의 시리즈 정의하기\n",
    "my_movies = [\"어벤져스\", \"국제시장\",\"방법\", \"파묘\"]\n",
    "my_index = [\"1번\", \"2번\", \"3번\", \"4번\"]\n",
    "my_series = pd.Series(data=my_movies, index=my_index)\n",
    "my_series"
   ]
  },
  {
   "cell_type": "code",
   "execution_count": 20,
   "metadata": {},
   "outputs": [
    {
     "name": "stdout",
     "output_type": "stream",
     "text": [
      "['어벤져스' '국제시장' '방법' '파묘']\n"
     ]
    },
    {
     "data": {
      "text/plain": [
       "numpy.ndarray"
      ]
     },
     "execution_count": 20,
     "metadata": {},
     "output_type": "execute_result"
    }
   ],
   "source": [
    "# .value\n",
    "# .value 속성은 Series객체에 저장된 데이터를 Numpy 형식으로 변환한다.\n",
    "print(my_series.values)\n",
    "type(my_series.values)\n"
   ]
  },
  {
   "cell_type": "code",
   "execution_count": 22,
   "metadata": {},
   "outputs": [
    {
     "name": "stdout",
     "output_type": "stream",
     "text": [
      "Index(['1번', '2번', '3번', '4번'], dtype='object')\n"
     ]
    },
    {
     "data": {
      "text/plain": [
       "pandas.core.indexes.base.Index"
      ]
     },
     "execution_count": 22,
     "metadata": {},
     "output_type": "execute_result"
    }
   ],
   "source": [
    "# .index\n",
    "# 인덱스는 각 데이터 포인트에 대한 고유한 레이블을 제공하며, 데이터 접근 및 조작에 중요한 역할을 한다.\n",
    "print(my_series.index)\n",
    "type(my_series.index)\n"
   ]
  },
  {
   "cell_type": "code",
   "execution_count": 23,
   "metadata": {},
   "outputs": [
    {
     "data": {
      "text/plain": [
       "dtype('O')"
      ]
     },
     "execution_count": 23,
     "metadata": {},
     "output_type": "execute_result"
    }
   ],
   "source": [
    "# .dtype\n",
    "# date type의 줄임말로, pandas 시리즈에 저장된 데이터 타입을 나타낸다.\n",
    "# 예를 들어 정수, 소수, 문자열, 날짜 등 다양한 데이터 타입이 있을 수 있다.\n",
    "# 여기서 O가 나오는 것은 O는 Object의 약자로 데이터 타입이 Object라는 것을 의미한다.\n",
    "# String = Object\n",
    "my_series.dtype"
   ]
  },
  {
   "cell_type": "code",
   "execution_count": 24,
   "metadata": {},
   "outputs": [
    {
     "data": {
      "text/plain": [
       "True"
      ]
     },
     "execution_count": 24,
     "metadata": {},
     "output_type": "execute_result"
    }
   ],
   "source": [
    "# .is_unique\n",
    "# series의 인덱스 값이 고유한지 여부를 확인하는데 사용된다.\n",
    "# 존재하지 않으면 false\n",
    "my_series.is_unique"
   ]
  },
  {
   "cell_type": "code",
   "execution_count": 25,
   "metadata": {},
   "outputs": [
    {
     "data": {
      "text/plain": [
       "(4,)"
      ]
     },
     "execution_count": 25,
     "metadata": {},
     "output_type": "execute_result"
    }
   ],
   "source": [
    "# .shape\n",
    "# Series의 형태를 반환한다.\n",
    "# (4,)은 1차원에 4개의 요소가 있다는 뜻이다.\n",
    "my_series.shape"
   ]
  },
  {
   "cell_type": "markdown",
   "metadata": {},
   "source": [
    "### 시리즈의 기본 메서드"
   ]
  },
  {
   "cell_type": "code",
   "execution_count": 26,
   "metadata": {},
   "outputs": [
    {
     "data": {
      "text/plain": [
       "0    100\n",
       "1    200\n",
       "2    300\n",
       "3    400\n",
       "4    500\n",
       "dtype: int64"
      ]
     },
     "execution_count": 26,
     "metadata": {},
     "output_type": "execute_result"
    }
   ],
   "source": [
    "# 시리즈의 다양한 메서드를 활용해 본다.\n",
    "my_series = pd.Series(data =[100,200,300,400,500])\n",
    "my_series"
   ]
  },
  {
   "cell_type": "code",
   "execution_count": 27,
   "metadata": {},
   "outputs": [
    {
     "data": {
      "text/plain": [
       "np.int64(1500)"
      ]
     },
     "execution_count": 27,
     "metadata": {},
     "output_type": "execute_result"
    }
   ],
   "source": [
    "# .sum()\n",
    "# 시리즈의 모든 요소의 합을 구한다.\n",
    "my_series.sum()"
   ]
  },
  {
   "cell_type": "code",
   "execution_count": 28,
   "metadata": {},
   "outputs": [
    {
     "data": {
      "text/plain": [
       "np.int64(1200000000000)"
      ]
     },
     "execution_count": 28,
     "metadata": {},
     "output_type": "execute_result"
    }
   ],
   "source": [
    "# .product()\n",
    "# 시리즈의 모든 요소의 곲을 구한다.\n",
    "my_series.product()"
   ]
  },
  {
   "cell_type": "code",
   "execution_count": 29,
   "metadata": {},
   "outputs": [
    {
     "data": {
      "text/plain": [
       "np.float64(300.0)"
      ]
     },
     "execution_count": 29,
     "metadata": {},
     "output_type": "execute_result"
    }
   ],
   "source": [
    "# .mean()\n",
    "# 시리즈의 모든 요소의 평균을 구한다.\n",
    "my_series.mean()"
   ]
  },
  {
   "cell_type": "code",
   "execution_count": 30,
   "metadata": {},
   "outputs": [
    {
     "data": {
      "text/plain": [
       "0    100\n",
       "1    200\n",
       "dtype: int64"
      ]
     },
     "execution_count": 30,
     "metadata": {},
     "output_type": "execute_result"
    }
   ],
   "source": [
    "# .head()\n",
    "# 시리즈를 처음부터 N개까지 출력한다.\n",
    "my_series.head(2)"
   ]
  },
  {
   "cell_type": "code",
   "execution_count": 31,
   "metadata": {},
   "outputs": [
    {
     "data": {
      "text/plain": [
       "2    300\n",
       "3    400\n",
       "4    500\n",
       "dtype: int64"
      ]
     },
     "execution_count": 31,
     "metadata": {},
     "output_type": "execute_result"
    }
   ],
   "source": [
    "# .tail()\n",
    "# 시리즈를 뒤에서 n개까지 출력한다.\n",
    "my_series.tail(3)"
   ]
  },
  {
   "cell_type": "code",
   "execution_count": 32,
   "metadata": {},
   "outputs": [
    {
     "data": {
      "text/plain": [
       "0    False\n",
       "1    False\n",
       "2    False\n",
       "3    False\n",
       "4    False\n",
       "dtype: bool"
      ]
     },
     "execution_count": 32,
     "metadata": {},
     "output_type": "execute_result"
    }
   ],
   "source": [
    "# .isin()\n",
    "# 여러 값 중에서 특정 값이 포함되어 있는지를 확인\n",
    "my_series.isin([\"고릴라\"])"
   ]
  },
  {
   "cell_type": "code",
   "execution_count": 33,
   "metadata": {},
   "outputs": [
    {
     "data": {
      "text/plain": [
       "Series([], dtype: int64)"
      ]
     },
     "execution_count": 33,
     "metadata": {},
     "output_type": "execute_result"
    }
   ],
   "source": [
    "# .duplicated()\n",
    "# 시리즈에서 중복된 값을 찾는 메서드이다.\n",
    "my_series[my_series.duplicated(keep=False)]"
   ]
  },
  {
   "cell_type": "markdown",
   "metadata": {},
   "source": [
    "### 시리즈 데이터 필터링 및 수정"
   ]
  },
  {
   "cell_type": "code",
   "execution_count": 35,
   "metadata": {},
   "outputs": [
    {
     "name": "stdout",
     "output_type": "stream",
     "text": [
      "1번    고릴라\n",
      "2번    고릴라\n",
      "3번    다람쥐\n",
      "4번    호랑이\n",
      "dtype: object\n"
     ]
    }
   ],
   "source": [
    "my_list = [\"고릴라\",\"고릴라\",\"다람쥐\",\"호랑이\"]\n",
    "my_label = [\"1번\", \"2번\", \"3번\", \"4번\"]\n",
    "my_series = pd.Series(my_list, index=my_label)\n",
    "print(my_series)"
   ]
  },
  {
   "cell_type": "code",
   "execution_count": 37,
   "metadata": {},
   "outputs": [
    {
     "data": {
      "text/plain": [
       "1번     킹콩\n",
       "2번    고릴라\n",
       "3번    다람쥐\n",
       "4번    호랑이\n",
       "dtype: object"
      ]
     },
     "execution_count": 37,
     "metadata": {},
     "output_type": "execute_result"
    }
   ],
   "source": [
    "# 1번 데이터를 접근하고 수정하기\n",
    "my_series[\"1번\"] = \"킹콩\"\n",
    "my_series"
   ]
  },
  {
   "cell_type": "code",
   "execution_count": 38,
   "metadata": {},
   "outputs": [
    {
     "data": {
      "text/plain": [
       "1번     킹콩\n",
       "2번    고릴라\n",
       "3번    다람쥐\n",
       "dtype: object"
      ]
     },
     "execution_count": 38,
     "metadata": {},
     "output_type": "execute_result"
    }
   ],
   "source": [
    "# 여러 index를 접근하고 가져오기\n",
    "filtered_date = my_series[[\"1번\", \"2번\", \"3번\"]]\n",
    "filtered_date"
   ]
  },
  {
   "cell_type": "code",
   "execution_count": 41,
   "metadata": {},
   "outputs": [
    {
     "name": "stdout",
     "output_type": "stream",
     "text": [
      "1번     킹콩\n",
      "4번    호랑이\n",
      "dtype: object\n",
      "2번    고릴라\n",
      "dtype: object\n"
     ]
    },
    {
     "data": {
      "text/plain": [
       "2번    고릴라\n",
       "dtype: object"
      ]
     },
     "execution_count": 41,
     "metadata": {},
     "output_type": "execute_result"
    }
   ],
   "source": [
    "bool_list = [True, False,False,True]\n",
    "print(my_series[bool_list])\n",
    "\n",
    "# 조건식을 이용한 참조\n",
    "print(my_series[my_series ==\"고릴라\"])\n"
   ]
  },
  {
   "cell_type": "markdown",
   "metadata": {},
   "source": [
    "### 시리즈 정렬하기"
   ]
  },
  {
   "cell_type": "code",
   "execution_count": 60,
   "metadata": {},
   "outputs": [
    {
     "name": "stdout",
     "output_type": "stream",
     "text": [
      "<class 'pandas.core.series.Series'>\n",
      "Animal\n",
      "다람쥐    30\n",
      "돼지     45\n",
      "고릴라    20\n",
      "원숭이    25\n",
      "호랑이    35\n",
      "곰      50\n",
      "늑대     40\n",
      "dtype: int64\n"
     ]
    }
   ],
   "source": [
    "# csv 가져오기\n",
    "animal_csv = pd.read_csv(\"../00_data/series_sample.csv\")\n",
    "\n",
    "animal_series = pd.Series(data=animal_csv[\"Age\"].values, index=animal_csv[\"Animal\"])\n",
    "print(type(animal_series))\n",
    "print(animal_series)\n"
   ]
  },
  {
   "cell_type": "code",
   "execution_count": 56,
   "metadata": {},
   "outputs": [
    {
     "data": {
      "text/plain": [
       "Animal\n",
       "고릴라    20\n",
       "원숭이    25\n",
       "다람쥐    30\n",
       "호랑이    35\n",
       "늑대     40\n",
       "돼지     45\n",
       "곰      50\n",
       "dtype: int64"
      ]
     },
     "execution_count": 56,
     "metadata": {},
     "output_type": "execute_result"
    }
   ],
   "source": [
    "# .sort_values()\n",
    "# 시리즈 또는 데이터프레임에서 값을 기준으로 정렬하는 메서드이다.\n",
    "# 해당 메서드를 사용하여 오름차순 혹은 내림차순으로 정렬이 가능하다.\n",
    "# .sort_values(ascending=False) 내림차순 정렬\n",
    "animal_series.sort_values(ascending=True)"
   ]
  },
  {
   "cell_type": "code",
   "execution_count": 62,
   "metadata": {},
   "outputs": [
    {
     "name": "stdout",
     "output_type": "stream",
     "text": [
      "Animal\n",
      "고릴라    20\n",
      "원숭이    25\n",
      "다람쥐    30\n",
      "호랑이    35\n",
      "늑대     40\n",
      "돼지     45\n",
      "곰      50\n",
      "dtype: int64\n"
     ]
    }
   ],
   "source": [
    "animal_series.sort_values(ascending=True, inplace=True)\n",
    "\n",
    "print(animal_series)"
   ]
  },
  {
   "cell_type": "code",
   "execution_count": 63,
   "metadata": {},
   "outputs": [
    {
     "data": {
      "text/plain": [
       "Age\n",
       "20    고릴라\n",
       "50      곰\n",
       "40     늑대\n",
       "30    다람쥐\n",
       "45     돼지\n",
       "25    원숭이\n",
       "35    호랑이\n",
       "Name: Animal, dtype: object"
      ]
     },
     "execution_count": 63,
     "metadata": {},
     "output_type": "execute_result"
    }
   ],
   "source": [
    "# .squeeze() 차원이 1인 축을 제거하여 차원이 축소된 객체를 반환하는데 사용된다.\n",
    "# 즉 1차원으로 축소가 가능한 경우에만 차원을 줄인다.\n",
    "animal_csv = pd.read_csv(\"../00_data/series_sample.csv\", index_col=\"Age\")\n",
    "animal_sorted = animal_csv.squeeze().sort_values()\n",
    "animal_sorted"
   ]
  },
  {
   "cell_type": "code",
   "execution_count": 64,
   "metadata": {},
   "outputs": [
    {
     "data": {
      "text/plain": [
       "Age\n",
       "20    고릴라\n",
       "25    원숭이\n",
       "30    다람쥐\n",
       "35    호랑이\n",
       "40     늑대\n",
       "45     돼지\n",
       "50      곰\n",
       "Name: Animal, dtype: object"
      ]
     },
     "execution_count": 64,
     "metadata": {},
     "output_type": "execute_result"
    }
   ],
   "source": [
    "# index를 기준으로 정렬하기\n",
    "animal_sorted.sort_index()"
   ]
  },
  {
   "cell_type": "markdown",
   "metadata": {},
   "source": [
    "# 시리즈에서 연산 수행"
   ]
  },
  {
   "cell_type": "code",
   "execution_count": 69,
   "metadata": {},
   "outputs": [
    {
     "data": {
      "text/plain": [
       "pandas.core.series.Series"
      ]
     },
     "execution_count": 69,
     "metadata": {},
     "output_type": "execute_result"
    }
   ],
   "source": [
    "animal_series = pd.read_csv(\"../00_data/series_sample.csv\", index_col=\"Animal\").squeeze()\n",
    "type(animal_series)"
   ]
  },
  {
   "cell_type": "code",
   "execution_count": 67,
   "metadata": {},
   "outputs": [
    {
     "data": {
      "text/plain": [
       "np.int64(7)"
      ]
     },
     "execution_count": 67,
     "metadata": {},
     "output_type": "execute_result"
    }
   ],
   "source": [
    "# .count() 메서드를 이용하여 길이 확인\n",
    "animal_series.count()"
   ]
  },
  {
   "cell_type": "code",
   "execution_count": 70,
   "metadata": {},
   "outputs": [
    {
     "data": {
      "text/plain": [
       "np.int64(50)"
      ]
     },
     "execution_count": 70,
     "metadata": {},
     "output_type": "execute_result"
    }
   ],
   "source": [
    "# 최대값 구하기\n",
    "animal_series.max()"
   ]
  },
  {
   "cell_type": "code",
   "execution_count": 73,
   "metadata": {},
   "outputs": [
    {
     "data": {
      "text/plain": [
       "np.int64(20)"
      ]
     },
     "execution_count": 73,
     "metadata": {},
     "output_type": "execute_result"
    }
   ],
   "source": [
    "# 최소값\n",
    "animal_series.min()"
   ]
  },
  {
   "cell_type": "code",
   "execution_count": 74,
   "metadata": {},
   "outputs": [
    {
     "data": {
      "text/plain": [
       "count     7.000000\n",
       "mean     35.000000\n",
       "std      10.801234\n",
       "min      20.000000\n",
       "25%      27.500000\n",
       "50%      35.000000\n",
       "75%      42.500000\n",
       "max      50.000000\n",
       "Name: Age, dtype: float64"
      ]
     },
     "execution_count": 74,
     "metadata": {},
     "output_type": "execute_result"
    }
   ],
   "source": [
    "# 시리의 대한 모든 통계 정보를 확인하기\n",
    "animal_series.describe()"
   ]
  },
  {
   "cell_type": "markdown",
   "metadata": {},
   "source": [
    "### 시리즈에서 주어진 요소 확인하기"
   ]
  },
  {
   "cell_type": "code",
   "execution_count": 75,
   "metadata": {},
   "outputs": [
    {
     "data": {
      "text/plain": [
       "pandas.core.series.Series"
      ]
     },
     "execution_count": 75,
     "metadata": {},
     "output_type": "execute_result"
    }
   ],
   "source": [
    "# import csv파일\n",
    "animal_series = pd.read_csv(\"../00_data/series_sample.csv\", index_col=\"Animal\").squeeze()\n",
    "type(animal_series)"
   ]
  },
  {
   "cell_type": "code",
   "execution_count": 76,
   "metadata": {},
   "outputs": [
    {
     "data": {
      "text/plain": [
       "True"
      ]
     },
     "execution_count": 76,
     "metadata": {},
     "output_type": "execute_result"
    }
   ],
   "source": [
    "# 시리즈 값에 주어진 숫자가 있는지 확인\n",
    "# 결과는 참 또는 거짓으로 반환된다.\n",
    "20 in animal_series.values"
   ]
  },
  {
   "cell_type": "code",
   "execution_count": 77,
   "metadata": {},
   "outputs": [
    {
     "data": {
      "text/plain": [
       "True"
      ]
     },
     "execution_count": 77,
     "metadata": {},
     "output_type": "execute_result"
    }
   ],
   "source": [
    "# 주어진 값이 인덱스에 존재하는지 확인\n",
    "\n",
    "\"고릴라\" in animal_series.index"
   ]
  },
  {
   "cell_type": "code",
   "execution_count": 78,
   "metadata": {},
   "outputs": [
    {
     "data": {
      "text/plain": [
       "True"
      ]
     },
     "execution_count": 78,
     "metadata": {},
     "output_type": "execute_result"
    }
   ],
   "source": [
    "\"고릴라\" in animal_series"
   ]
  },
  {
   "cell_type": "markdown",
   "metadata": {},
   "source": [
    "### 시리즈 슬라이싱"
   ]
  },
  {
   "cell_type": "code",
   "execution_count": 79,
   "metadata": {},
   "outputs": [
    {
     "data": {
      "text/plain": [
       "Age\n",
       "30    다람쥐\n",
       "45     돼지\n",
       "20    고릴라\n",
       "25    원숭이\n",
       "35    호랑이\n",
       "50      곰\n",
       "40     늑대\n",
       "Name: Animal, dtype: object"
      ]
     },
     "execution_count": 79,
     "metadata": {},
     "output_type": "execute_result"
    }
   ],
   "source": [
    "animal_series = pd.read_csv(\"../00_data/series_sample.csv\", index_col=\"Age\").squeeze()\n",
    "animal_series"
   ]
  },
  {
   "cell_type": "code",
   "execution_count": 82,
   "metadata": {},
   "outputs": [
    {
     "data": {
      "text/plain": [
       "Age\n",
       "30    다람쥐\n",
       "Name: Animal, dtype: object"
      ]
     },
     "execution_count": 82,
     "metadata": {},
     "output_type": "execute_result"
    }
   ],
   "source": [
    "# 판다 시리즈의 첫 번째 요소 획득\n",
    "# 첫 번째 요소의 인덱스\n",
    "animal_series[0:1]\n"
   ]
  },
  {
   "cell_type": "code",
   "execution_count": 81,
   "metadata": {},
   "outputs": [
    {
     "data": {
      "text/plain": [
       "Age\n",
       "40    늑대\n",
       "Name: Animal, dtype: object"
      ]
     },
     "execution_count": 81,
     "metadata": {},
     "output_type": "execute_result"
    }
   ],
   "source": [
    "# 판다 시리지의 마지막 요소\n",
    "animal_series[animal_series.count()-1:]"
   ]
  },
  {
   "cell_type": "code",
   "execution_count": 83,
   "metadata": {},
   "outputs": [
    {
     "data": {
      "text/plain": [
       "Age\n",
       "45     돼지\n",
       "20    고릴라\n",
       "25    원숭이\n",
       "35    호랑이\n",
       "50      곰\n",
       "40     늑대\n",
       "Name: Animal, dtype: object"
      ]
     },
     "execution_count": 83,
     "metadata": {},
     "output_type": "execute_result"
    }
   ],
   "source": [
    "animal_series[1:]"
   ]
  },
  {
   "cell_type": "code",
   "execution_count": 84,
   "metadata": {},
   "outputs": [
    {
     "data": {
      "text/plain": [
       "Age\n",
       "30    다람쥐\n",
       "45     돼지\n",
       "20    고릴라\n",
       "Name: Animal, dtype: object"
      ]
     },
     "execution_count": 84,
     "metadata": {},
     "output_type": "execute_result"
    }
   ],
   "source": [
    "animal_series[:3]"
   ]
  }
 ],
 "metadata": {
  "kernelspec": {
   "display_name": "dataAnalysis",
   "language": "python",
   "name": "python3"
  },
  "language_info": {
   "codemirror_mode": {
    "name": "ipython",
    "version": 3
   },
   "file_extension": ".py",
   "mimetype": "text/x-python",
   "name": "python",
   "nbconvert_exporter": "python",
   "pygments_lexer": "ipython3",
   "version": "3.12.7"
  }
 },
 "nbformat": 4,
 "nbformat_minor": 2
}
